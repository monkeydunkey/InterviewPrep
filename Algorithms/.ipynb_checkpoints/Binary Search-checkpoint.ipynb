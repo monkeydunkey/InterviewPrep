{
 "cells": [
  {
   "cell_type": "markdown",
   "id": "37bd008a",
   "metadata": {},
   "source": [
    "# Introduction\n",
    "\n",
    "As the name implies, Binary search is an algorithm that finds an element in a given collection. It has two requirements:\n",
    "1. The elements in the data structure should stored in a sorted order.\n",
    "2. The data structure storing the elements should allow random access to elements. \n",
    "\n",
    "It works as follows: At each step, it compares the middle element in the search space with the target value. If they are equal, it returns the index of the middle element. If the target value is less than the middle element, the search continues on the lower half of the array. If the target value is greater, the search continues on the upper half. The process continues until the search space is empty or the target element is found. \n",
    "\n",
    "As the algorithm reduces the search space by a factor of 2 each step, its overall runtime becomes Log(n) (where the base is 2). \n",
    "\n",
    "Following are different question patterns that can be solved using Binary Search\n",
    "1. **Searching an element in a sorted array or list**: This is the most straightforward application of the algorithm.\n",
    "2. **Rotated Arrays**: Problems involving rotated sorted arrays often lend themselves to solutions using binary search, for example finding a target value in a rotated array.\n",
    "3. **Finding boundaries**: Binary search can be used to find the first or last occurrence of a value in a sorted array, or to determine the lower or upper bound of a range.\n",
    "4. **Optimization problems**: Some optimization problems can be solved using binary search, especially those which require finding a specific threshold or breakpoint within a given range.\n",
    "\n",
    "Lets look at sample problems/questions for the each of these patterns\n",
    "\n",
    "## Searching an element in a sorted array or list\n",
    "**Question**: For a given array check if it contains two elements whose sum is equal to 0. If yes, return the two elements\n",
    "array: [1, 2, 3, 4, -2, 6, 7] answer: Yes, elements (2, -2)\n",
    "\n",
    "While this question can be solved in linear time by using a hash set to keep track of the elements seen so far and then for each new element checking if their complement exists in the set or not. We can also employ binary search to come up with O(nLogn) solution, which is still better than the brute force O(n^2)"
   ]
  },
  {
   "cell_type": "code",
   "execution_count": 29,
   "id": "160da76b",
   "metadata": {},
   "outputs": [],
   "source": [
    "from typing import List, Tuple\n",
    "\n",
    "def binarySearchRecurr(arr: List[int], target_val: int, left: int, right: int) -> bool:\n",
    "    if left > right:\n",
    "        return False\n",
    "    ind = (left + right) // 2\n",
    "    if arr[ind] == target_val: return True\n",
    "    if arr[ind] > target_val:\n",
    "        return binarySearchRecurr(arr, target_val, left, ind-1)\n",
    "    else:\n",
    "        return binarySearchRecurr(arr, target_val, ind+1, right)\n",
    "    \n",
    "\n",
    "def twoSum(arr: List[int]) -> Tuple[bool, List[int]]:\n",
    "    sorted_arr = sorted(arr)\n",
    "    for val in sorted_arr:\n",
    "        if binarySearchRecurr(sorted_arr, -1*val, 0, len(sorted_arr)-1):\n",
    "            return (True, [val, -1*val])\n",
    "    return (False, [])"
   ]
  },
  {
   "cell_type": "code",
   "execution_count": 33,
   "id": "6d31f517",
   "metadata": {},
   "outputs": [
    {
     "name": "stdout",
     "output_type": "stream",
     "text": [
      "(True, [-3, 3])\n",
      "(True, [-2, 2])\n",
      "(False, [])\n",
      "(True, [-1, 1])\n",
      "(False, [])\n"
     ]
    }
   ],
   "source": [
    "# Test Cases\n",
    "print(twoSum([1, 2, -3, 4, -2, 6, 3]))\n",
    "print(twoSum([1, 2, 7, 4, -2, 6, 3]))\n",
    "print(twoSum([1, 2, 7, 4, 2, 6, 3]))\n",
    "print(twoSum([1, -1]))\n",
    "print(twoSum([]))"
   ]
  },
  {
   "cell_type": "markdown",
   "id": "7437ec6a",
   "metadata": {},
   "source": [
    "## Searching for an element in a rotated array or list\n",
    "\n",
    "**Question**: Given a sorted and rotated array arr[] of size N and a key, the task is to find the key in the array.\n",
    "\n",
    "Note: Find the element in O(logN) time and assume that all the elements are distinct.\n",
    "\n",
    "**Example**: \n",
    "Input  : arr[] = {5, 6, 7, 8, 9, 10, 1, 2, 3}, key = 3\n",
    "Output : Found at index 8\n",
    "\n",
    "**Answer**: If we can find the pivot point, then we can split the array into two sorted array and then run two binary searchs to find the element. The simplest way to find the pivot point would be to use a linear search which will take O(n) time, so using linear search for the pivot point would not lead to the most optimal solution as the linear search will dominate the overall runtime. \n",
    "\n",
    "Another way to look for the pivot point would be use binary search again. To use binary search at each step:\n",
    "1. Check if L < M < R or not.\n",
    "2. If L < M but M > R then the pivot point is either M or between M and R\n",
    "3. If L > M but M < R then the pivot point is either M or between L and M\n",
    "\n",
    "Note we are assuming that we are dealing with an array that is sorted in ascending order."
   ]
  },
  {
   "cell_type": "code",
   "execution_count": 38,
   "id": "8f522188",
   "metadata": {},
   "outputs": [
    {
     "name": "stdout",
     "output_type": "stream",
     "text": [
      "(6, 1)\n",
      "(7, 2)\n",
      "(8, 3)\n",
      "(5, 0)\n",
      "None\n",
      "(1, 4)\n"
     ]
    }
   ],
   "source": [
    "# iterative binary search solution\n",
    "def findPivotPoint(arr: List[int]):\n",
    "    l, r = 0 , len(arr) - 1\n",
    "    pivot_point = None\n",
    "    while l + 1 < r:\n",
    "        mid = (l + r)//2\n",
    "        if arr[l] < arr[mid] and arr[mid] < arr[r]:\n",
    "            # This means that the array did not have a pivot point\n",
    "            return None\n",
    "        if arr[l] < arr[mid] and arr[mid] > arr[r]:\n",
    "            l = mid\n",
    "        else:\n",
    "            r = mid\n",
    "    if l >= r:\n",
    "        return None\n",
    "    \n",
    "    return (r, arr[r]) if arr[l] > arr[r] else (l, arr[l])\n",
    "    \n",
    "\n",
    "print(findPivotPoint([5, 6, 7, 8, 9, 10, 1, 2, 3]))\n",
    "print(findPivotPoint([5, 6, 7, 8, 9, 10, 11, 2, 3]))\n",
    "print(findPivotPoint([5, 6, 7, 8, 9, 10, 11, 12, 3]))\n",
    "print(findPivotPoint([5, 6, 7, 8, 9, 0, 1, 2, 3]))\n",
    "print(findPivotPoint([]))\n",
    "print(findPivotPoint([5,4]))"
   ]
  },
  {
   "cell_type": "markdown",
   "id": "e3d247f6",
   "metadata": {},
   "source": [
    "## Finding boundaries\n",
    "Uptil now the arrays had unique elements but what if there are repeated elements and we want to find the first or last occurence of an element in an array:\n",
    "**Question**: Given a sorted array with duplicate elements find the first occurence of the target element.\n",
    "\n",
    "**Example**: Arr: [1,1,2,2,2,2,3,3,4,4] Target: 2 return 2\n",
    "\n",
    "**Answer***: Binary search can be modified such as instead of returning as soon as the element is found we can keep moving the search space left, while keeping ind with the element in the search space, until l >= r or l + 1 = r. "
   ]
  },
  {
   "cell_type": "code",
   "execution_count": 60,
   "id": "fc585db9",
   "metadata": {},
   "outputs": [],
   "source": [
    "def findFirstOccurence(arr: List[int], target:int) -> int:\n",
    "    if not arr:\n",
    "        return -1\n",
    "    l, r = 0, len(arr) - 1\n",
    "    while l + 1 < r:\n",
    "        mid = (l + r)//2\n",
    "        if arr[mid] > target:\n",
    "            r = mid - 1\n",
    "        if arr[mid] < target:\n",
    "            l = mid + 1\n",
    "        if arr[mid] == target:\n",
    "            r = mid\n",
    "    if arr[l] == target:\n",
    "        return l\n",
    "    elif arr[r] == target:\n",
    "        return r\n",
    "    else:\n",
    "        return -1"
   ]
  },
  {
   "cell_type": "code",
   "execution_count": 63,
   "id": "d6efc832",
   "metadata": {},
   "outputs": [
    {
     "name": "stdout",
     "output_type": "stream",
     "text": [
      "1\n",
      "-1\n",
      "-1\n",
      "1\n",
      "-1\n",
      "0\n",
      "-1\n"
     ]
    }
   ],
   "source": [
    "print(findFirstOccurence([1,2,2,3,3,3,3,3,4,4], 2))\n",
    "print(findFirstOccurence([1,2,2,3,3,3,3,3,4,4], 5))\n",
    "print(findFirstOccurence([1,2], 5))\n",
    "print(findFirstOccurence([1,2], 2))\n",
    "print(findFirstOccurence([1], 2))\n",
    "print(findFirstOccurence([1,1,1,1,1,1,1,1,1,1,1,1,1,1,1,1,1], 1))\n",
    "print(findFirstOccurence([], 1))"
   ]
  },
  {
   "cell_type": "code",
   "execution_count": null,
   "id": "69d1fdab",
   "metadata": {},
   "outputs": [],
   "source": []
  }
 ],
 "metadata": {
  "kernelspec": {
   "display_name": "Python 3 (ipykernel)",
   "language": "python",
   "name": "python3"
  },
  "language_info": {
   "codemirror_mode": {
    "name": "ipython",
    "version": 3
   },
   "file_extension": ".py",
   "mimetype": "text/x-python",
   "name": "python",
   "nbconvert_exporter": "python",
   "pygments_lexer": "ipython3",
   "version": "3.11.5"
  }
 },
 "nbformat": 4,
 "nbformat_minor": 5
}
