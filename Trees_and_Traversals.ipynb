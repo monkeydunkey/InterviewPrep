{
  "nbformat": 4,
  "nbformat_minor": 0,
  "metadata": {
    "colab": {
      "provenance": [],
      "authorship_tag": "ABX9TyONTsRS/covpKG1Hbq9tefb",
      "include_colab_link": true
    },
    "kernelspec": {
      "name": "python3",
      "display_name": "Python 3"
    },
    "language_info": {
      "name": "python"
    }
  },
  "cells": [
    {
      "cell_type": "markdown",
      "metadata": {
        "id": "view-in-github",
        "colab_type": "text"
      },
      "source": [
        "<a href=\"https://colab.research.google.com/github/monkeydunkey/InterviewPrep/blob/master/Trees_and_Traversals.ipynb\" target=\"_parent\"><img src=\"https://colab.research.google.com/assets/colab-badge.svg\" alt=\"Open In Colab\"/></a>"
      ]
    },
    {
      "cell_type": "markdown",
      "source": [
        "# Trees\n",
        "\n",
        "Trees are a type of graph datastructure which do not have any loops. Trees (in particular BTress) are widely used for storing information in databases. For now will focus on the Binary Trees as they are commonly asked in interview.\n",
        "\n",
        "## Binary Trees\n",
        "In binary trees each node can have at max 2 nodes, this is where the name binary comes from. As not all nodes need to have two children, binary trees can be tall or wide, and everything in between. If each node in a binary tree only has one child (except for leaves), the tree would be much taller than it is wide. On the other hand, if most or all the nodes in a binary tree have two children, then the tree would be considered balanced.\n",
        "\n",
        "Specifically, we can view binary trees as being balanced or unbalanced by this measure: a binary tree is balanced when the heights of the left and right subtrees of any node differ by at most one. **The height of a tree is determined by the number of edges in the longest path from the root to a leaf.** The main advantage of a balanced binary tree is that we can achieve optimal performance for searching, adding and deleting operations - by maintaining logarithmic height, these operations can be performed in O(log n) time complexity on average.\n",
        "\n",
        "Note: **Being balanced is in general a very desired properties, aforementioned BTrees are a self balancing generalized version of binary trees.**\n",
        "\n",
        "A common implemention of Binary Trees are Binary Search Trees which as the name implies is optimized for search. A binary tree is considered a binary search tree if for every given node *node.left.value < node.value < node.right.value*. Following is a basic implementation of Binary Search Trees that assume all input values will be distinct."
      ],
      "metadata": {
        "id": "i7Unwp2iYI8u"
      }
    },
    {
      "cell_type": "code",
      "execution_count": 17,
      "metadata": {
        "colab": {
          "base_uri": "https://localhost:8080/"
        },
        "id": "-Z8QjmxlX99s",
        "outputId": "e326c4ff-bae7-4d1a-e41b-87b10f50cf15"
      },
      "outputs": [
        {
          "output_type": "stream",
          "name": "stdout",
          "text": [
            "Is 5 present in BST: True\n",
            "In Order Traversal\n",
            "5\n",
            "7\n",
            "9\n",
            "10\n",
            "11\n",
            "12\n",
            "--------------------\n",
            "Pre Order Traversal\n",
            "10\n",
            "9\n",
            "7\n",
            "5\n",
            "11\n",
            "12\n",
            "--------------------\n",
            "5\n",
            "7\n",
            "9\n",
            "12\n",
            "11\n",
            "10\n"
          ]
        }
      ],
      "source": [
        "# Just a handy decorator that allows for simple class instantiation\n",
        "from dataclasses import dataclass\n",
        "\n",
        "@dataclass\n",
        "class BinaryTreeNode:\n",
        "  value: int = 0\n",
        "  left = None\n",
        "  right = None\n",
        "\n",
        "# Binary Search Tree\n",
        "class BinarySearchTree:\n",
        "  def __init__(self):\n",
        "    self.root = None\n",
        "\n",
        "  def _find_pos(self, val) -> BinaryTreeNode:\n",
        "    # Convinience func for finding position of provided val,\n",
        "    # returns node whose child val can be inserted as.\n",
        "    curr_node = self.root\n",
        "    prev_node = None\n",
        "    while curr_node is not None:\n",
        "      if val == curr_node.value:\n",
        "        return curr_node\n",
        "      prev_node = curr_node\n",
        "      curr_node = curr_node.right if val > curr_node.value else curr_node.left\n",
        "\n",
        "    return prev_node\n",
        "\n",
        "  def insert(self, val: int) -> None:\n",
        "    if self.root is None:\n",
        "      self.root = BinaryTreeNode(value = val)\n",
        "      return\n",
        "\n",
        "    insert_node = self._find_pos(val)\n",
        "    if insert_node.value > val:\n",
        "      insert_node.left = BinaryTreeNode(value = val)\n",
        "    else:\n",
        "      insert_node.right = BinaryTreeNode(value = val)\n",
        "\n",
        "  def search(self, val: int) -> bool:\n",
        "    if self.root is None:\n",
        "      return False\n",
        "    _node = self._find_pos(val)\n",
        "    return _node.value == val\n",
        "\n",
        "  def print_inorder(self):\n",
        "    # print all node value in the left sub-tree then the node value then values\n",
        "    # in the right sub-tree\n",
        "    # In recurssive solution the Heap act as this stack\n",
        "    node_stack = [(self.root, False)]\n",
        "    while node_stack:\n",
        "      curr_node, visted = node_stack.pop()\n",
        "      if not visted and curr_node.left is not None:\n",
        "        node_stack.append((curr_node, True))\n",
        "        node_stack.append((curr_node.left, False))\n",
        "        continue\n",
        "      print(curr_node.value)\n",
        "      if curr_node.right is not None:\n",
        "        node_stack.append((curr_node.right, False))\n",
        "        continue\n",
        "\n",
        "  def print_preorder(self):\n",
        "    # print the value of the node, then all node values in the left sub-tree,\n",
        "    # then the node value in the right sub-tree.\n",
        "    # In recurssive solution the Heap act as this stack\n",
        "    node_stack = [(self.root, False)]\n",
        "    while node_stack:\n",
        "      curr_node, visted = node_stack.pop()\n",
        "      if not visted:\n",
        "        print(curr_node.value)\n",
        "      if not visted and curr_node.left is not None:\n",
        "        node_stack.append((curr_node, True))\n",
        "        node_stack.append((curr_node.left, False))\n",
        "        continue\n",
        "      if curr_node.right is not None:\n",
        "        node_stack.append((curr_node.right, False))\n",
        "        continue\n",
        "\n",
        "  # Difficult to do it recursively.\n",
        "  def print_postorder(self, node = None):\n",
        "    # print the value of the nodes in the left sub-tree, then all node values\n",
        "    # in the right sub-tree, then the value of the node\n",
        "    if node is None:\n",
        "      node = self.root\n",
        "    if node.left is not None:\n",
        "      self.print_postorder(node.left)\n",
        "    if node.right is not None:\n",
        "      self.print_postorder(node.right)\n",
        "    print(node.value)\n",
        "\n",
        "\n",
        "\n",
        "bst = BinarySearchTree()\n",
        "bst.insert(10)\n",
        "bst.insert(11)\n",
        "bst.insert(9)\n",
        "bst.insert(7)\n",
        "bst.insert(5)\n",
        "bst.insert(12)\n",
        "print(f\"Is 5 present in BST: {bst.search(5)}\")\n",
        "print(\"In Order Traversal\")\n",
        "bst.print_inorder()\n",
        "print(\"--\"*10)\n",
        "print(\"Pre Order Traversal\")\n",
        "bst.print_preorder()\n",
        "print(\"--\"*10)\n",
        "print(\"Post Order Traversal\")\n",
        "bst.print_postorder()"
      ]
    },
    {
      "cell_type": "code",
      "source": [],
      "metadata": {
        "id": "01YcUO_Cgu99"
      },
      "execution_count": null,
      "outputs": []
    }
  ]
}